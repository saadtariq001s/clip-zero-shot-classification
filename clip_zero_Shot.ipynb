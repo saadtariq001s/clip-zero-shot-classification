{
 "cells": [
  {
   "cell_type": "code",
   "execution_count": 3,
   "metadata": {},
   "outputs": [
    {
     "name": "stderr",
     "output_type": "stream",
     "text": [
      "Unused or unrecognized kwargs: padding.\n"
     ]
    },
    {
     "name": "stdout",
     "output_type": "stream",
     "text": [
      "label: a photo of a cat - probability of 0.9992\n",
      "label: a photo of a dog - probability of 0.0008\n"
     ]
    }
   ],
   "source": [
    "from transformers import CLIPModel\n",
    "from transformers import AutoProcessor\n",
    "from PIL import Image\n",
    "\n",
    "model = CLIPModel.from_pretrained(\"openai/clip-vit-large-patch14\")\n",
    "\n",
    "\n",
    "processor = AutoProcessor.from_pretrained(\n",
    "    \"openai/clip-vit-large-patch14\"\n",
    ")\n",
    "\n",
    "image = Image.open(\"kittens.jpeg\"\n",
    "                   )\n",
    "labels = [\"a photo of a cat\", \"a photo of a dog\"]\n",
    "\n",
    "inputs = processor(text=labels,\n",
    "                   images=image,\n",
    "                   return_tensors=\"pt\",\n",
    "                   padding=True)\n",
    "\n",
    "outputs = model(**inputs)\n",
    "\n",
    "probs = outputs.logits_per_image.softmax(dim=1)[0]\n",
    "\n",
    "probs = list(probs)\n",
    "for i in range(len(labels)):\n",
    "  print(f\"label: {labels[i]} - probability of {probs[i].item():.4f}\")\n"
   ]
  },
  {
   "cell_type": "code",
   "execution_count": 2,
   "metadata": {},
   "outputs": [
    {
     "name": "stdout",
     "output_type": "stream",
     "text": [
      "Running on local URL:  http://127.0.0.1:7864\n",
      "\n",
      "To create a public link, set `share=True` in `launch()`.\n"
     ]
    },
    {
     "data": {
      "text/html": [
       "<div><iframe src=\"http://127.0.0.1:7864/\" width=\"100%\" height=\"500\" allow=\"autoplay; camera; microphone; clipboard-read; clipboard-write;\" frameborder=\"0\" allowfullscreen></iframe></div>"
      ],
      "text/plain": [
       "<IPython.core.display.HTML object>"
      ]
     },
     "metadata": {},
     "output_type": "display_data"
    },
    {
     "data": {
      "text/plain": []
     },
     "execution_count": 2,
     "metadata": {},
     "output_type": "execute_result"
    },
    {
     "name": "stderr",
     "output_type": "stream",
     "text": [
      "Unused or unrecognized kwargs: padding.\n"
     ]
    }
   ],
   "source": [
    "import gradio as gr\n",
    "from transformers import CLIPModel, AutoProcessor\n",
    "from PIL import Image\n",
    "\n",
    "# Load the model and processor\n",
    "model = CLIPModel.from_pretrained(\"openai/clip-vit-large-patch14\")\n",
    "processor = AutoProcessor.from_pretrained(\"openai/clip-vit-large-patch14\")\n",
    "\n",
    "def predict(image, label):\n",
    "    inputs = processor(text=label, images=image, return_tensors=\"pt\", padding=True)\n",
    "    outputs = model(**inputs)\n",
    "    probs = outputs.logits_per_image.softmax(dim=1)[0]\n",
    "    return f\"Label: {label} - Probability: {probs.item():.4f}\"\n",
    "\n",
    "# Create a Gradio interface\n",
    "gradio_app = gr.Interface(\n",
    "    fn=predict,\n",
    "    inputs=[gr.Image(type=\"pil\"), gr.Textbox(label=\"Label\")],\n",
    "    outputs=\"text\",\n",
    "    title=\"CLIP Image Classification\",\n",
    "    description=\"Label an image with a caption and get the predicted probability.\",\n",
    ")\n",
    "\n",
    "# Launch the Gradio app\n",
    "gradio_app.launch()"
   ]
  }
 ],
 "metadata": {
  "kernelspec": {
   "display_name": "Python 3",
   "language": "python",
   "name": "python3"
  },
  "language_info": {
   "codemirror_mode": {
    "name": "ipython",
    "version": 3
   },
   "file_extension": ".py",
   "mimetype": "text/x-python",
   "name": "python",
   "nbconvert_exporter": "python",
   "pygments_lexer": "ipython3",
   "version": "3.8.10"
  }
 },
 "nbformat": 4,
 "nbformat_minor": 2
}
